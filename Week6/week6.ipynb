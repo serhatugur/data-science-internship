{
 "cells": [
  {
   "cell_type": "code",
   "execution_count": 112,
   "id": "96919c18",
   "metadata": {},
   "outputs": [],
   "source": [
    "import dask.dataframe as dd\n",
    "import pandas as pd\n",
    "import time\n",
    "import yaml\n",
    "import os"
   ]
  },
  {
   "cell_type": "code",
   "execution_count": 103,
   "id": "d8425de2",
   "metadata": {},
   "outputs": [],
   "source": [
    "file_path = 'us_chronic_disease.csv'\n",
    "df_pandas = pd.read_csv(file_path, low_memory=False)"
   ]
  },
  {
   "cell_type": "code",
   "execution_count": 104,
   "id": "0744f68b",
   "metadata": {},
   "outputs": [
    {
     "name": "stdout",
     "output_type": "stream",
     "text": [
      "Execution time for loading file with Pandas: 3.1925880908966064 seconds\n"
     ]
    }
   ],
   "source": [
    "start_time = time.time()\n",
    "df_pandas = pd.read_csv(file_path, low_memory=False)\n",
    "end_time = time.time()\n",
    "time_pandas = end_time - start_time\n",
    "print(\"Execution time for loading file with Pandas:\", time_pandas, \"seconds\")"
   ]
  },
  {
   "cell_type": "code",
   "execution_count": 105,
   "id": "63f8a06f",
   "metadata": {},
   "outputs": [
    {
     "name": "stdout",
     "output_type": "stream",
     "text": [
      "Execution time for loading file with Dask: 2.5730199813842773 seconds\n"
     ]
    }
   ],
   "source": [
    "start_time = time.time()\n",
    "df_dask = dd.read_csv(file_path, dtype='object')\n",
    "df_dask.compute()\n",
    "end_time = time.time()\n",
    "time_dask = end_time - start_time\n",
    "\n",
    "print(\"Execution time for loading file with Dask:\", time_dask, \"seconds\")"
   ]
  },
  {
   "cell_type": "code",
   "execution_count": 106,
   "id": "ab7e69e3",
   "metadata": {},
   "outputs": [
    {
     "name": "stdout",
     "output_type": "stream",
     "text": [
      "Cleaned Column Names:\n",
      "Index(['YearStart', 'YearEnd', 'LocationAbbr', 'LocationDesc', 'DataSource',\n",
      "       'Topic', 'Question', 'Response', 'DataValueUnit', 'DataValueType',\n",
      "       'DataValue', 'DataValueAlt', 'DataValueFootnoteSymbol',\n",
      "       'DatavalueFootnote', 'LowConfidenceLimit', 'HighConfidenceLimit',\n",
      "       'StratificationCategory1', 'Stratification1', 'StratificationCategory2',\n",
      "       'Stratification2', 'StratificationCategory3', 'Stratification3',\n",
      "       'GeoLocation', 'ResponseID', 'LocationID', 'TopicID', 'QuestionID',\n",
      "       'DataValueTypeID', 'StratificationCategoryID1', 'StratificationID1',\n",
      "       'StratificationCategoryID2', 'StratificationID2',\n",
      "       'StratificationCategoryID3', 'StratificationID3'],\n",
      "      dtype='object')\n"
     ]
    }
   ],
   "source": [
    "df_pandas.columns = df_pandas.columns.str.strip()\n",
    "df_pandas.columns = df_pandas.columns.str.replace(r'[^a-zA-Z0-9_]', '_', regex=True)\n",
    "\n",
    "print(\"Cleaned Column Names:\")\n",
    "print(df_pandas.columns)"
   ]
  },
  {
   "cell_type": "code",
   "execution_count": 107,
   "id": "0f25187b",
   "metadata": {},
   "outputs": [
    {
     "name": "stdout",
     "output_type": "stream",
     "text": [
      "Schema written to schema.yaml\n"
     ]
    }
   ],
   "source": [
    "columns = list(df_pandas.columns)\n",
    "\n",
    "schema = {\n",
    "    'columns': columns\n",
    "}\n",
    "\n",
    "yaml_file_path = 'schema.yaml'\n",
    "with open(yaml_file_path, 'w') as yaml_file:\n",
    "    yaml.dump(schema, yaml_file, default_flow_style=False)\n",
    "\n",
    "print(f\"Schema written to {yaml_file_path}\")"
   ]
  },
  {
   "cell_type": "code",
   "execution_count": 108,
   "id": "d431b0a4",
   "metadata": {},
   "outputs": [
    {
     "name": "stdout",
     "output_type": "stream",
     "text": [
      "Number of columns match!\n",
      "Column names match!\n"
     ]
    }
   ],
   "source": [
    "with open(yaml_file_path, 'r') as yaml_file:\n",
    "    schema_loaded = yaml.safe_load(yaml_file)\n",
    "\n",
    "columns_in_file = list(df_pandas.columns)\n",
    "columns_in_schema = schema_loaded['columns']\n",
    "\n",
    "if len(columns_in_file) == len(columns_in_schema):\n",
    "    print(\"Number of columns match!\")\n",
    "else:\n",
    "    print(f\"Mismatch in number of columns: {len(columns_in_file)} in file vs {len(columns_in_schema)} in schema\")\n",
    "\n",
    "if columns_in_file == columns_in_schema:\n",
    "    print(\"Column names match!\")\n",
    "else:\n",
    "    print(\"Mismatch in column names:\")\n",
    "    print(\"In file:\", columns_in_file)\n",
    "    print(\"In schema:\", columns_in_schema)"
   ]
  },
  {
   "cell_type": "code",
   "execution_count": 109,
   "id": "9a430bd7",
   "metadata": {},
   "outputs": [
    {
     "name": "stdout",
     "output_type": "stream",
     "text": [
      "File written to us_chronic_disease_pipe_separated.csv.gz\n"
     ]
    }
   ],
   "source": [
    "output_file_path = 'us_chronic_disease_pipe_separated.csv.gz'\n",
    "df_pandas.to_csv(output_file_path, sep='|', index=False, compression='gzip')\n",
    "\n",
    "print(f\"File written to {output_file_path}\")"
   ]
  },
  {
   "cell_type": "code",
   "execution_count": 110,
   "id": "0b4ea72e",
   "metadata": {},
   "outputs": [
    {
     "name": "stdout",
     "output_type": "stream",
     "text": [
      "Summary of the file:\n",
      "Total number of rows: 1185676\n",
      "Total number of columns: 34\n",
      "File size: 359317765\n"
     ]
    }
   ],
   "source": [
    "num_rows = len(df_pandas)\n",
    "num_columns = len(df_pandas.columns)\n",
    "\n",
    "file_size = os.path.getsize(file_path)  \n",
    "\n",
    "print(\"Summary of the file:\")\n",
    "print(f\"Total number of rows: {num_rows}\")\n",
    "print(f\"Total number of columns: {num_columns}\")\n",
    "print(f\"File size: {file_size}\")"
   ]
  }
 ],
 "metadata": {
  "kernelspec": {
   "display_name": "Python 3 (ipykernel)",
   "language": "python",
   "name": "python3"
  },
  "language_info": {
   "codemirror_mode": {
    "name": "ipython",
    "version": 3
   },
   "file_extension": ".py",
   "mimetype": "text/x-python",
   "name": "python",
   "nbconvert_exporter": "python",
   "pygments_lexer": "ipython3",
   "version": "3.11.4"
  }
 },
 "nbformat": 4,
 "nbformat_minor": 5
}
